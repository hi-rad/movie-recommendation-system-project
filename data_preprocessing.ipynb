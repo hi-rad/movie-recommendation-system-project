{
 "cells": [
  {
   "cell_type": "code",
   "execution_count": 1,
   "metadata": {},
   "outputs": [],
   "source": [
    "import pandas as pd\n",
    "import os"
   ]
  },
  {
   "cell_type": "code",
   "execution_count": 3,
   "metadata": {
    "pycharm": {
     "name": "#%%\n"
    }
   },
   "outputs": [],
   "source": [
    "cwd = os.getcwd()\n",
    "# Loading the dataset\n",
    "all_ratings = pd.read_csv(os.path.join(cwd, 'data', 'ratings.csv'))\n",
    "\n",
    "# Find the timestamp for a 0.90 quantile to keep ratings before this timestamp as training and the rest for evaluations\n",
    "timestamp = all_ratings['timestamp'].quantile(0.90)"
   ]
  },
  {
   "cell_type": "code",
   "execution_count": 19,
   "metadata": {
    "pycharm": {
     "name": "#%%\n"
    }
   },
   "outputs": [
    {
     "name": "stdout",
     "output_type": "stream",
     "text": [
      "Number of ratings in the Training Set: 23421860\n",
      "Number of ratings in the Evaluation Set Before Removing Users and Movies not Present in Training Set: 26024289\n",
      "Number of ratings in the Evaluation Set After Removing Users not Present in Training Set: 23857492\n",
      "Number of ratings in the Evaluation Set After Removing Movies not Present in Training Set: 23811904\n"
     ]
    }
   ],
   "source": [
    "# Removing ratings that are zero as they are not correct\n",
    "all_ratings = all_ratings[all_ratings['rating'] > 0.0]\n",
    "\n",
    "# Splitting the dataset to train and evaluation\n",
    "train_ratings = all_ratings[all_ratings['timestamp'] <= timestamp]\n",
    "evaluation_ratings = all_ratings\n",
    "\n",
    "print(f\"Number of ratings in the Training Set: {len(train_ratings)}\")\n",
    "print(\n",
    "    f\"Number of ratings in the Evaluation Set Before Removing Users and Movies not Present in Training Set: {len(evaluation_ratings)}\")\n",
    "\n",
    "# Remove users in Evaluation set that are not in the training set\n",
    "train_user_ids = train_ratings['userId'].unique().tolist()\n",
    "evaluation_ratings = evaluation_ratings[evaluation_ratings['userId'].isin(train_user_ids)]\n",
    "print(\n",
    "    f\"Number of ratings in the Evaluation Set After Removing Users not Present in Training Set: {len(evaluation_ratings)}\")\n",
    "\n",
    "# Remove movies in Evaluation set that are not in the training set\n",
    "train_movie_ids = train_ratings['movieId'].unique().tolist()\n",
    "evaluation_ratings = evaluation_ratings[evaluation_ratings['movieId'].isin(train_movie_ids)]\n",
    "print(\n",
    "    f\"Number of ratings in the Evaluation Set After Removing Movies not Present in Training Set: {len(evaluation_ratings)}\")"
   ]
  },
  {
   "cell_type": "code",
   "execution_count": 20,
   "metadata": {
    "pycharm": {
     "name": "#%%\n"
    }
   },
   "outputs": [
    {
     "name": "stdout",
     "output_type": "stream",
     "text": [
      "Total Number of Users: 252361\n",
      "Total Number of Movies: 36305\n",
      "Evaluation and Training Sets have the Same Number of Users: True\n",
      "Evaluation and Training Sets have the Same Number of Movies: True\n",
      "Number of Ratings Available in Evaluation Set for Final Evaluation: 390044\n"
     ]
    }
   ],
   "source": [
    "# Some Insights\n",
    "print(f\"Total Number of Users: {len(evaluation_ratings['userId'].unique())}\")\n",
    "print(f\"Total Number of Movies: {len(evaluation_ratings['movieId'].unique())}\")\n",
    "print(\n",
    "    f\"Evaluation and Training Sets have the Same Number of Users: {len(train_ratings['userId'].unique()) == len(evaluation_ratings['userId'].unique())}\")\n",
    "print(\n",
    "    f\"Evaluation and Training Sets have the Same Number of Movies: {len(train_ratings['movieId'].unique()) == len(evaluation_ratings['movieId'].unique())}\")\n",
    "print(\n",
    "    f\"Number of Ratings Available in Evaluation Set for Final Evaluation: {len(evaluation_ratings) - len(train_ratings)}\")"
   ]
  },
  {
   "cell_type": "code",
   "execution_count": 21,
   "metadata": {
    "pycharm": {
     "name": "#%%\n"
    }
   },
   "outputs": [],
   "source": [
    "# Save Training Dataset and Evaluation Dataset\n",
    "if not os.path.exists(os.path.join(cwd, 'data', 'processed')):\n",
    "    os.makedirs(os.path.join(cwd, 'data', 'processed'))\n",
    "train_ratings.to_csv(os.path.join(cwd, 'data', 'processed', 'train_ratings.csv'), index=False)\n",
    "evaluation_ratings.to_csv(os.path.join(cwd, 'data', 'processed', 'evaluation_ratings.csv'), index=False)"
   ]
  },
  {
   "cell_type": "code",
   "execution_count": 22,
   "metadata": {
    "pycharm": {
     "name": "#%%\n"
    }
   },
   "outputs": [
    {
     "name": "stdout",
     "output_type": "stream",
     "text": [
      "Creating Movie Mappings\n",
      "Creating Users Dataset\n"
     ]
    }
   ],
   "source": [
    "# Creating User-Item Rating Matrix\n",
    "# Each row represents a user and each column is the user's rating to a movie\n",
    "# Missing ratings have been filled with zero\n",
    "# Since the number of users and movies are a lot, we will store user-item ratings matrix of each user in a separate file\n",
    "movie_ids = evaluation_ratings['movieId'].unique().tolist()\n",
    "movie_ids.sort()\n",
    "movie_mappings = []\n",
    "movie_mappings_dict = {}\n",
    "movie_int_id = 0\n",
    "print(\"Creating Movie Mappings\")\n",
    "for movie_id in movie_ids:\n",
    "    movie_mappings_dict[str(movie_id)] = movie_int_id\n",
    "    movie_mappings.append({'id': movie_int_id, 'rating_id': movie_id})\n",
    "    movie_int_id += 1\n",
    "movie_mappings_df = pd.DataFrame(movie_mappings)\n",
    "movie_mappings_df.to_csv(os.path.join(cwd, 'data', 'processed', 'movie_mappings.csv'), index=False)\n",
    "\n",
    "print(\"Creating Users Dataset\")\n",
    "\n",
    "user_ids = list(evaluation_ratings['userId'].unique())\n",
    "user_ids.sort()\n",
    "\n",
    "users_pd = pd.DataFrame(user_ids, columns=['id'])\n",
    "users_pd.to_csv(os.path.join(cwd, 'data', 'processed', 'users.csv'), index=False)"
   ]
  },
  {
   "cell_type": "code",
   "execution_count": 23,
   "metadata": {
    "pycharm": {
     "name": "#%%\n"
    }
   },
   "outputs": [
    {
     "name": "stdout",
     "output_type": "stream",
     "text": [
      "Calculating Movie Average Ratings\n"
     ]
    }
   ],
   "source": [
    "movies_ratings = {}\n",
    "print(\"Calculating Movie Average Ratings\")\n",
    "for movie in evaluation_ratings['movieId'].unique().tolist():\n",
    "    movies_ratings[movie] = {'ratings': 0.0, 'users': 0, 'average': 0}\n",
    "\n",
    "for rating in evaluation_ratings.to_dict(orient='records'):\n",
    "    movies_ratings[rating['movieId']]['ratings'] += rating['rating']\n",
    "    movies_ratings[rating['movieId']]['users'] += 1\n",
    "    average_rating = movies_ratings[rating['movieId']]['ratings'] / movies_ratings[rating['movieId']]['users']\n",
    "    movies_ratings[rating['movieId']]['average'] = average_rating\n",
    "\n",
    "ratings_info = []\n",
    "\n",
    "for movie_id in movies_ratings:\n",
    "    ratings_info.append({'id': movie_id, 'rating': movies_ratings[movie_id]['average']})\n",
    "\n",
    "data_frame = pd.DataFrame(ratings_info)\n",
    "data_frame.to_csv(os.path.join(cwd, 'data', 'processed', 'movies_average_ratings.csv'), index=False)\n"
   ]
  },
  {
   "cell_type": "code",
   "execution_count": 24,
   "metadata": {
    "pycharm": {
     "is_executing": true,
     "name": "#%%\n"
    }
   },
   "outputs": [
    {
     "name": "stdout",
     "output_type": "stream",
     "text": [
      "Creating User-Ratings\n",
      "251361 Users Left-250361 Users Left-249361 Users Left-248361 Users Left-247361 Users Left-246361 Users Left-245361 Users Left-244361 Users Left-243361 Users Left-242361 Users Left-241361 Users Left-240361 Users Left-239361 Users Left-238361 Users Left-237361 Users Left-236361 Users Left-235361 Users Left-234361 Users Left-233361 Users Left-232361 Users Left-231361 Users Left-230361 Users Left-229361 Users Left-228361 Users Left-227361 Users Left-226361 Users Left-225361 Users Left-224361 Users Left-223361 Users Left-222361 Users Left-221361 Users Left-220361 Users Left-219361 Users Left-218361 Users Left-217361 Users Left-216361 Users Left-215361 Users Left-214361 Users Left-213361 Users Left-212361 Users Left-211361 Users Left-210361 Users Left-209361 Users Left-208361 Users Left-207361 Users Left-206361 Users Left-205361 Users Left-204361 Users Left-203361 Users Left-202361 Users Left-\n",
      "\n",
      "201361 Users Left-200361 Users Left-199361 Users Left-198361 Users Left-197361 Users Left-196361 Users Left-195361 Users Left-194361 Users Left-193361 Users Left-192361 Users Left-191361 Users Left-190361 Users Left-189361 Users Left-188361 Users Left-187361 Users Left-186361 Users Left-185361 Users Left-184361 Users Left-183361 Users Left-182361 Users Left-181361 Users Left-180361 Users Left-179361 Users Left-178361 Users Left-177361 Users Left-176361 Users Left-175361 Users Left-174361 Users Left-173361 Users Left-172361 Users Left-171361 Users Left-170361 Users Left-169361 Users Left-168361 Users Left-167361 Users Left-166361 Users Left-165361 Users Left-164361 Users Left-163361 Users Left-162361 Users Left-161361 Users Left-160361 Users Left-159361 Users Left-158361 Users Left-157361 Users Left-156361 Users Left-155361 Users Left-154361 Users Left-153361 Users Left-152361 Users Left-\n",
      "\n",
      "151361 Users Left-150361 Users Left-149361 Users Left-148361 Users Left-147361 Users Left-146361 Users Left-145361 Users Left-144361 Users Left-143361 Users Left-142361 Users Left-141361 Users Left-140361 Users Left-139361 Users Left-138361 Users Left-137361 Users Left-136361 Users Left-135361 Users Left-134361 Users Left-133361 Users Left-132361 Users Left-131361 Users Left-130361 Users Left-129361 Users Left-128361 Users Left-127361 Users Left-126361 Users Left-125361 Users Left-124361 Users Left-123361 Users Left-122361 Users Left-121361 Users Left-120361 Users Left-119361 Users Left-118361 Users Left-117361 Users Left-116361 Users Left-115361 Users Left-114361 Users Left-113361 Users Left-112361 Users Left-111361 Users Left-110361 Users Left-109361 Users Left-108361 Users Left-107361 Users Left-106361 Users Left-105361 Users Left-104361 Users Left-103361 Users Left-102361 Users Left-\n",
      "\n",
      "101361 Users Left-100361 Users Left-99361 Users Left-98361 Users Left-97361 Users Left-96361 Users Left-95361 Users Left-94361 Users Left-93361 Users Left-92361 Users Left-91361 Users Left-90361 Users Left-89361 Users Left-88361 Users Left-87361 Users Left-86361 Users Left-85361 Users Left-84361 Users Left-83361 Users Left-82361 Users Left-81361 Users Left-80361 Users Left-79361 Users Left-78361 Users Left-77361 Users Left-76361 Users Left-75361 Users Left-74361 Users Left-73361 Users Left-72361 Users Left-71361 Users Left-70361 Users Left-69361 Users Left-68361 Users Left-67361 Users Left-66361 Users Left-65361 Users Left-64361 Users Left-63361 Users Left-62361 Users Left-61361 Users Left-60361 Users Left-59361 Users Left-58361 Users Left-57361 Users Left-56361 Users Left-55361 Users Left-54361 Users Left-53361 Users Left-52361 Users Left-\n",
      "\n",
      "51361 Users Left-50361 Users Left-49361 Users Left-48361 Users Left-47361 Users Left-46361 Users Left-45361 Users Left-44361 Users Left-43361 Users Left-42361 Users Left-41361 Users Left-40361 Users Left-39361 Users Left-38361 Users Left-37361 Users Left-36361 Users Left-35361 Users Left-34361 Users Left-33361 Users Left-32361 Users Left-31361 Users Left-30361 Users Left-29361 Users Left-28361 Users Left-27361 Users Left-26361 Users Left-25361 Users Left-24361 Users Left-23361 Users Left-22361 Users Left-21361 Users Left-20361 Users Left-19361 Users Left-18361 Users Left-17361 Users Left-16361 Users Left-15361 Users Left-14361 Users Left-13361 Users Left-12361 Users Left-11361 Users Left-10361 Users Left-9361 Users Left-8361 Users Left-7361 Users Left-6361 Users Left-5361 Users Left-4361 Users Left-3361 Users Left-2361 Users Left-\n",
      "\n",
      "1361 Users Left-361 Users Left-All Done\n"
     ]
    }
   ],
   "source": [
    "# Because of the file being huge, we will save every user's ratings separately\n",
    "print(\"Creating User-Ratings\")\n",
    "if not os.path.exists(os.path.join(cwd, 'data', 'processed', 'train_user_ratings')):\n",
    "    os.mkdir(os.path.join(cwd, 'data', 'processed', 'train_user_ratings'))\n",
    "if not os.path.exists(os.path.join(cwd, 'data', 'processed', 'evaluation_user_ratings')):\n",
    "    os.mkdir(os.path.join(cwd, 'data', 'processed', 'evaluation_user_ratings'))\n",
    "for (_, user_id) in enumerate(user_ids):\n",
    "    if (_+1) % 1000 == 0:\n",
    "        print(f\"{len(user_ids) - (_+1)} Users Left\", end='-')\n",
    "    if (_+1) % 50000 == 0:\n",
    "        print(\"\\n\")\n",
    "    train_user_ratings = train_ratings[train_ratings['userId'] == user_id]\n",
    "    evaluation_user_ratings = evaluation_ratings[evaluation_ratings['userId'] == user_id]\n",
    "    file_name = os.path.join(cwd, 'data', 'processed', 'train_user_ratings', str(user_id) + '.csv')\n",
    "    train_user_ratings.to_csv(file_name, index=False)\n",
    "    file_name = os.path.join(cwd, 'data', 'processed', 'evaluation_user_ratings', str(user_id) + '.csv')\n",
    "    evaluation_user_ratings.to_csv(file_name, index=False)\n",
    "\n",
    "print(\"All Done\")\n"
   ]
  }
 ],
 "metadata": {
  "kernelspec": {
   "display_name": "Python 3 (ipykernel)",
   "language": "python",
   "name": "python3"
  },
  "language_info": {
   "codemirror_mode": {
    "name": "ipython",
    "version": 3
   },
   "file_extension": ".py",
   "mimetype": "text/x-python",
   "name": "python",
   "nbconvert_exporter": "python",
   "pygments_lexer": "ipython3",
   "version": "3.9.7"
  }
 },
 "nbformat": 4,
 "nbformat_minor": 1
}
